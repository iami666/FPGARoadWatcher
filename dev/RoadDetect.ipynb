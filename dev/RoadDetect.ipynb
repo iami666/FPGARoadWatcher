{
 "cells": [
  {
   "cell_type": "code",
   "execution_count": null,
   "metadata": {
    "collapsed": true
   },
   "outputs": [],
   "source": [
    "from ipywidgets import interactive\n",
    "import ipywidgets as widgets\n",
    "\n",
    "import cv2\n",
    "import matplotlib.pyplot as plt\n",
    "import numpy as np\n",
    "import sys\n",
    "%matplotlib inline"
   ]
  },
  {
   "cell_type": "code",
   "execution_count": null,
   "metadata": {
    "collapsed": true
   },
   "outputs": [],
   "source": [
    "INTER_FRAME = 1\n",
    "FRAME_COUNT = 5\n",
    "BEGIN_FRAME = 1014 # 2981"
   ]
  },
  {
   "cell_type": "code",
   "execution_count": null,
   "metadata": {},
   "outputs": [],
   "source": [
    "img.shape"
   ]
  },
  {
   "cell_type": "code",
   "execution_count": null,
   "metadata": {
    "collapsed": true
   },
   "outputs": [],
   "source": [
    "import cv2\n",
    "vidcap = cv2.VideoCapture('road.mp4')\n",
    "success,image = vidcap.read()\n",
    "count = 0\n",
    "success = True\n",
    "images = []\n",
    "for i in range(BEGIN_FRAME + FRAME_COUNT*INTER_FRAME+1):\n",
    "    success,image = vidcap.read()\n",
    "    if i % INTER_FRAME == 0 and i > BEGIN_FRAME:\n",
    "        images.append(image)"
   ]
  },
  {
   "cell_type": "code",
   "execution_count": null,
   "metadata": {},
   "outputs": [],
   "source": [
    "plt.imshow(images[0])"
   ]
  },
  {
   "cell_type": "code",
   "execution_count": null,
   "metadata": {
    "collapsed": true
   },
   "outputs": [],
   "source": [
    "def intersection(cos1, sin1, cos2, sin2, rho1, rho2):\n",
    "    D  = cos1 * sin2 - cos2 * sin1\n",
    "    Dx = rho1 * sin2 - rho2 * sin1\n",
    "    Dy = cos1 * rho2 - cos2 * rho1\n",
    "    if D != 0:\n",
    "        x = Dx / D\n",
    "        y = Dy / D\n",
    "        return x,y\n",
    "    else:\n",
    "        return False"
   ]
  },
  {
   "cell_type": "code",
   "execution_count": null,
   "metadata": {
    "collapsed": true
   },
   "outputs": [],
   "source": [
    "top_lines = 20\n",
    "blur_size = 9\n",
    "hough_treshold = 50\n",
    "hough_top_lines = 20\n",
    "vanishing_box = [width*0.25, width*0.75, height*0, height*0.75]\n",
    "edge_threshold = 64\n",
    "theta_limit = 70"
   ]
  },
  {
   "cell_type": "code",
   "execution_count": null,
   "metadata": {
    "collapsed": true
   },
   "outputs": [],
   "source": [
    "#img = cv2.imread('curveRight4.jpg', cv2.IMREAD_COLOR)\n",
    "#img = cv2.imread('solidWhiteRight.jpg', cv2.IMREAD_COLOR)\n",
    "img = images[0]\n",
    "\n",
    "def extract_vanishing_point_and_edges(img, top_lines, blur_size, hough_treshold, vanishing_box, edge_threshold, theta_limit, crop_top=80):\n",
    "    height, width = img.shape[:2]\n",
    "    img = img[crop_top:]\n",
    "    height, width = img.shape[:2]\n",
    "    M = cv2.getRotationMatrix2D((width/2,height/2),0,1)\n",
    "    img = cv2.warpAffine(img,M,(width,height))\n",
    "    gray = cv2.cvtColor(img,cv2.COLOR_BGR2GRAY)\n",
    "    blur = cv2.GaussianBlur(gray, (blur_size, blur_size), 0, 0)\n",
    "\n",
    "    edges = cv2.Sobel(blur, cv2.CV_8UC1, 1, 0,\n",
    "                      ksize=3,\n",
    "                      scale=1,\n",
    "                      delta=0,\n",
    "                      borderType=cv2.BORDER_DEFAULT)\n",
    "    edges = cv2.multiply(edges, alpha[crop_top:], dtype=cv2.CV_8UC1)\n",
    "\n",
    "    _, edges_threshold = cv2.threshold(edges, edge_threshold, 0, cv2.THRESH_TOZERO)\n",
    "\n",
    "\n",
    "    polar_theta_limit = theta_limit*np.pi/180\n",
    "    polar_lines = cv2.HoughLines(edges_threshold,1,np.pi/180,hough_treshold, min_theta=-polar_theta_limit,max_theta=+polar_theta_limit)\n",
    "\n",
    "    intersections = []\n",
    "\n",
    "    left_lines, right_lines = [], []\n",
    "    lines = []\n",
    "    for [[rho,theta]] in polar_lines:\n",
    "        #lines.append((np.cos(theta), np.sin(theta), rho, theta))\n",
    "        c, s = np.cos(theta), np.sin(theta)\n",
    "        #top_x, _ = intersection(c, s, 0, 1, 0)\n",
    "        bot_x, _ = intersection(c, s, 0, 1, rho, height)\n",
    "        if theta > 0 and bot_x < width/2: # is tilted to the right and starts from the left part of the screen\n",
    "            left_lines.append((c, s, rho, theta))\n",
    "        elif theta < 0 and bot_x > width/2: # is tilted to the left and starts from the right part of the screen\n",
    "            right_lines.append((c, s, rho, theta))\n",
    "\n",
    "    left_thetas, right_thetas = [], []\n",
    "    correct_left_lines, correct_right_lines = set(), set()\n",
    "    brk = False\n",
    "    for i, (cos1, sin1, rho1, theta1) in enumerate(left_lines):\n",
    "        for j, (cos2, sin2, rho2, theta2) in enumerate(right_lines):\n",
    "            res = intersection(cos1, sin1, cos2, sin2, rho1, rho2)\n",
    "            if res is not False and vanishing_box[0] < res[0] < vanishing_box[1]\\\n",
    "                                and vanishing_box[2] < res[1] < vanishing_box[3]:\n",
    "                if len(correct_left_lines) < top_lines:\n",
    "                    correct_left_lines.add(i)\n",
    "                if len(correct_right_lines) < top_lines:\n",
    "                    correct_right_lines.add(j)\n",
    "                brk = len(correct_left_lines) >= top_lines and len(correct_right_lines) >= top_lines\n",
    "            if brk:\n",
    "                break\n",
    "        if brk:\n",
    "            break\n",
    "    correct_left_lines = sorted(list(correct_left_lines))\n",
    "    correct_right_lines = sorted(list(correct_right_lines))\n",
    "\n",
    "    best_left = correct_left_lines[:top_lines]#sorted(correct_left_lines, key=lambda x:left_lines[x][3])[:top_lines]#/len(correct_left_lines)\n",
    "    left_theta = sum(left_lines[x][3] for x in best_left)/len(best_left)\n",
    "    best_right = correct_right_lines[-top_lines:]\n",
    "    #best_right = sorted(correct_right_lines, key=lambda x:right_lines[x][3])[-top_lines:]#/len(correct_right_lines)\n",
    "    right_theta = sum(right_lines[x][3] for x in best_right)/len(best_right)\n",
    "\n",
    "    for i, (cos1, sin1, rho1, theta1) in enumerate(left_lines[x] for x in best_left):\n",
    "        for j, (cos2, sin2, rho2, theta2) in enumerate(right_lines[x] for x in best_right):\n",
    "            res = intersection(cos1, sin1, cos2, sin2, rho1, rho2)\n",
    "            intersections.append(res)\n",
    "\n",
    "    mean_x = sum(p[0] for p in intersections)\n",
    "    mean_y = sum(p[1] for p in intersections)\n",
    "    mean_x /= len(intersections)\n",
    "    mean_y /= len(intersections)\n",
    "\n",
    "    return (mean_x, mean_y), [left_lines[x] for x in best_left], [right_lines[x] for x in best_right], edges_threshold, img"
   ]
  },
  {
   "cell_type": "code",
   "execution_count": null,
   "metadata": {
    "collapsed": true
   },
   "outputs": [],
   "source": [
    "def display_edges_and_vanishing_point(img, edges, lines, vanishing_point, top_lines):\n",
    "    out = img.copy()\n",
    "    for a, b, rho, theta in list(lines)[:top_lines]:\n",
    "        x0 = a*rho\n",
    "        y0 = b*rho\n",
    "        x1 = int(x0 + 1000*(-b))\n",
    "        y1 = int(y0 + 1000*(a))\n",
    "        x2 = int(x0 - 1000*(-b))\n",
    "        y2 = int(y0 - 1000*(a))\n",
    "\n",
    "        cv2.line(out,(x1,y1),(x2,y2),(0,0,255),2)\n",
    "\n",
    "    fig, ax = plt.subplots(1, 2, figsize=(16, 4))\n",
    "    cv2.circle(out,(int(vanishing_point[0]),int(vanishing_point[1])),1,(255,0,0),10)\n",
    "    ax[0].imshow(edges, 'gray')\n",
    "    ax[1].imshow(out)"
   ]
  },
  {
   "cell_type": "code",
   "execution_count": null,
   "metadata": {},
   "outputs": [],
   "source": [
    "alpha = np.zeros((images[0].shape[0], 1))\n",
    "for i in range(images[0].shape[0]):\n",
    "    if i< images[0].shape[0]*0.5:\n",
    "        alpha[i, 0] = 0.2*i/(images[0].shape[0]*0.5)\n",
    "    else:\n",
    "        alpha[i, 0] = 0.2 + (i-images[0].shape[0]*0.5)/(images[0].shape[0]*0.5)\n",
    "alpha = np.repeat(alpha, images[0].shape[1], axis=1)\n",
    "plt.imshow(alpha, 'gray')"
   ]
  },
  {
   "cell_type": "code",
   "execution_count": null,
   "metadata": {
    "collapsed": true
   },
   "outputs": [],
   "source": [
    "def annotate_images(images, i, ref=0):\n",
    "    (mean_x, mean_y), left_lines, right_lines, edges, img = extract_vanishing_point_and_edges(\n",
    "        images[i],\n",
    "        top_lines = 5,\n",
    "        blur_size = 9,\n",
    "        hough_treshold = 20,\n",
    "        vanishing_box = [width*0.25, width*0.75, -height*0.25, height*0.75],\n",
    "        edge_threshold = 10,\n",
    "        theta_limit = 80,\n",
    "        crop_top=0)\n",
    "    display_edges_and_vanishing_point(img,edges,[*left_lines,\n",
    "                                           *right_lines],\n",
    "                                           (mean_x, mean_y), 10)\n",
    "    print(mean_x-ref)\n",
    "    return mean_x"
   ]
  },
  {
   "cell_type": "code",
   "execution_count": null,
   "metadata": {
    "scrolled": true
   },
   "outputs": [],
   "source": [
    "interactive(lambda x: annotate_images(images, x, 202.5), x=(0, FRAME_COUNT-1))"
   ]
  }
 ],
 "metadata": {
  "kernelspec": {
   "display_name": "Python 3",
   "language": "python",
   "name": "python3"
  },
  "language_info": {
   "codemirror_mode": {
    "name": "ipython",
    "version": 3
   },
   "file_extension": ".py",
   "mimetype": "text/x-python",
   "name": "python",
   "nbconvert_exporter": "python",
   "pygments_lexer": "ipython3",
   "version": "3.6.5"
  }
 },
 "nbformat": 4,
 "nbformat_minor": 2
}
